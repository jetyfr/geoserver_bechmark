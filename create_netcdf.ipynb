{
 "cells": [
  {
   "cell_type": "code",
   "execution_count": 1,
   "id": "9737f35c",
   "metadata": {},
   "outputs": [],
   "source": [
    "#!pip install numpy\n",
    "#!pip install xarray"
   ]
  },
  {
   "cell_type": "code",
   "execution_count": 2,
   "id": "71f5a7b7",
   "metadata": {},
   "outputs": [],
   "source": [
    "import numpy as np\n",
    "import datetime as dt\n",
    "import xarray as xr"
   ]
  },
  {
   "cell_type": "code",
   "execution_count": 3,
   "id": "de1a1b4a",
   "metadata": {},
   "outputs": [],
   "source": [
    "time_steps = 96  \n",
    "lat_len = 500     \n",
    "lon_len = 500 "
   ]
  },
  {
   "cell_type": "code",
   "execution_count": 4,
   "id": "12d809fe",
   "metadata": {},
   "outputs": [],
   "source": [
    "temp_data = np.random.rand(time_steps, lat_len, lon_len) * 30 \n",
    "rh_data = np.random.rand(time_steps, lat_len, lon_len) * 100"
   ]
  },
  {
   "cell_type": "code",
   "execution_count": 5,
   "id": "223e19c6",
   "metadata": {},
   "outputs": [],
   "source": [
    "latitudes = np.linspace(41.672725, 44.118962, lat_len)  \n",
    "longitudes = np.linspace(-9.755856, -6.240231, lon_len) \n",
    "times = [dt.datetime(2024, 7, 10) + dt.timedelta(hours=i) for i in range(time_steps)]\n"
   ]
  },
  {
   "cell_type": "code",
   "execution_count": 6,
   "id": "8d48a12f",
   "metadata": {},
   "outputs": [],
   "source": [
    "ds = xr.Dataset(\n",
    "    {\n",
    "        \"temp\": ([\"time\", \"lat\", \"lon\"], temp_data),\n",
    "        \"rh\": ([\"time\", \"lat\", \"lon\"], rh_data),\n",
    "    },\n",
    "    coords={\n",
    "        \"time\": times,\n",
    "        \"lat\": latitudes,\n",
    "        \"lon\": longitudes,\n",
    "    },\n",
    ")"
   ]
  },
  {
   "cell_type": "code",
   "execution_count": 7,
   "id": "dcfc0d63",
   "metadata": {},
   "outputs": [],
   "source": [
    "# Add attributes\n",
    "ds.attrs[\"description\"] = \"Example NetCDF file for Galicia with random temp and rh data\"\n",
    "ds[\"lat\"].attrs[\"units\"] = \"degrees_north\"\n",
    "ds[\"lon\"].attrs[\"units\"] = \"degrees_east\"\n",
    "ds[\"temp\"].attrs[\"units\"] = \"Celsius\"\n",
    "ds[\"rh\"].attrs[\"units\"] = \"percent\""
   ]
  },
  {
   "cell_type": "code",
   "execution_count": 8,
   "id": "17b1e260",
   "metadata": {},
   "outputs": [],
   "source": [
    "# Save to a NetCDF file\n",
    "nc_filename = \"temp_rh.nc\"\n",
    "ds.to_netcdf(nc_filename)"
   ]
  }
 ],
 "metadata": {
  "kernelspec": {
   "display_name": "Python 3 (ipykernel)",
   "language": "python",
   "name": "python3"
  },
  "language_info": {
   "codemirror_mode": {
    "name": "ipython",
    "version": 3
   },
   "file_extension": ".py",
   "mimetype": "text/x-python",
   "name": "python",
   "nbconvert_exporter": "python",
   "pygments_lexer": "ipython3",
   "version": "3.10.9"
  }
 },
 "nbformat": 4,
 "nbformat_minor": 5
}
