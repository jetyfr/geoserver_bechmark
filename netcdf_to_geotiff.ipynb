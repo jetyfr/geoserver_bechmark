{
 "cells": [
  {
   "cell_type": "code",
   "execution_count": 1,
   "id": "9737f35c",
   "metadata": {},
   "outputs": [],
   "source": [
    "#!pip install rioxarray"
   ]
  },
  {
   "cell_type": "code",
   "execution_count": 2,
   "id": "71f5a7b7",
   "metadata": {},
   "outputs": [],
   "source": [
    "import rioxarray\n",
    "import os\n",
    "import pandas as pd"
   ]
  },
  {
   "cell_type": "code",
   "execution_count": 3,
   "id": "be466d0b",
   "metadata": {},
   "outputs": [],
   "source": [
    "filename = \"temp_rh\"\n",
    "os.makedirs(filename, exist_ok=True)"
   ]
  },
  {
   "cell_type": "code",
   "execution_count": 4,
   "id": "952af18d",
   "metadata": {},
   "outputs": [],
   "source": [
    "rds = rioxarray.open_rasterio(f'{filename}.nc',)"
   ]
  },
  {
   "cell_type": "code",
   "execution_count": 5,
   "id": "ac04e0e9",
   "metadata": {},
   "outputs": [],
   "source": [
    "rds = rds.rio.write_crs(\"EPSG:4326\", inplace=True)"
   ]
  },
  {
   "cell_type": "code",
   "execution_count": 6,
   "id": "9c30c3dc",
   "metadata": {},
   "outputs": [],
   "source": [
    "for i, time in enumerate(rds.time.values):\n",
    "    time_str = pd.to_datetime(str(time)).strftime('%Y%m%d%H')\n",
    "    output_filename = os.path.join(filename, f\"{time_str}.tif\")    \n",
    "    rds.isel(time=i).rio.to_raster(output_filename)"
   ]
  }
 ],
 "metadata": {
  "kernelspec": {
   "display_name": "Python 3 (ipykernel)",
   "language": "python",
   "name": "python3"
  },
  "language_info": {
   "codemirror_mode": {
    "name": "ipython",
    "version": 3
   },
   "file_extension": ".py",
   "mimetype": "text/x-python",
   "name": "python",
   "nbconvert_exporter": "python",
   "pygments_lexer": "ipython3",
   "version": "3.10.9"
  }
 },
 "nbformat": 4,
 "nbformat_minor": 5
}
